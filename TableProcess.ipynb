{
 "cells": [
  {
   "cell_type": "code",
   "execution_count": 105,
   "metadata": {
    "collapsed": false
   },
   "outputs": [],
   "source": [
    "import os\n",
    "import pandas as pd\n",
    "import numpy as np\n",
    "dir=os.getcwd()+\"\\data\"\n",
    "filename=os.listdir(dir)\n",
    "newdirector=os.getcwd()+\"\\\\newdata\"\n",
    "os.mkdir(newdirector)"
   ]
  },
  {
   "cell_type": "code",
   "execution_count": 106,
   "metadata": {
    "collapsed": false
   },
   "outputs": [],
   "source": [
    "for name in filename:\n",
    "    if \".htm\" in name:\n",
    "        continue\n",
    "    filedir=dir+\"\\\\\"+name\n",
    "    table=pd.read_csv(filedir,encoding = \"ISO-8859-1\",dtype=str,na_values=[\"$\",\"(1)\",\"(2)\",\"(3)\",\"(4)\",\"(5)\",\"(6)\",\"(7)\",\"(8)\",\"(9)\",\"(10)\",\"(11)\",\"(12)\",\"(13)\",\"(14)\",\"(15)\",\"(16)\",\"(17)\",\"(18)\",\"(19)\",\"(20)\",\"(5)(6)\"])\n",
    "    table[table.columns.values[0]]=table[table.columns.values[0]].fillna(\"--\")\n",
    "    new=[]\n",
    "    index=table.shape[0]\n",
    "    for i in range(0,index):\n",
    "        new.append(table.loc[i].dropna().tolist())\n",
    "    new=pd.DataFrame(new)\n",
    "    new.to_csv(newdirector+\"\\\\\"+name,encoding = \"ISO-8859-1\",index=False,header=False)\n",
    "    \n"
   ]
  }
 ],
 "metadata": {
  "anaconda-cloud": {},
  "kernelspec": {
   "display_name": "Python [conda root]",
   "language": "python",
   "name": "conda-root-py"
  },
  "language_info": {
   "codemirror_mode": {
    "name": "ipython",
    "version": 3
   },
   "file_extension": ".py",
   "mimetype": "text/x-python",
   "name": "python",
   "nbconvert_exporter": "python",
   "pygments_lexer": "ipython3",
   "version": "3.5.2"
  }
 },
 "nbformat": 4,
 "nbformat_minor": 1
}
